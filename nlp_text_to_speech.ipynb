{
 "cells": [
  {
   "cell_type": "code",
   "execution_count": 2,
   "metadata": {},
   "outputs": [],
   "source": [
    "import nltk"
   ]
  },
  {
   "cell_type": "code",
   "execution_count": 3,
   "metadata": {},
   "outputs": [],
   "source": [
    "import nltk.corpus"
   ]
  },
  {
   "cell_type": "code",
   "execution_count": 4,
   "metadata": {},
   "outputs": [],
   "source": [
    "#Tokenization"
   ]
  },
  {
   "cell_type": "code",
   "execution_count": 9,
   "metadata": {},
   "outputs": [],
   "source": [
    "from nltk.tokenize import word_tokenize"
   ]
  },
  {
   "cell_type": "code",
   "execution_count": 55,
   "metadata": {},
   "outputs": [],
   "source": [
    "chess = \"Samay Raina is the best chess streamer in the world\""
   ]
  },
  {
   "cell_type": "code",
   "execution_count": 56,
   "metadata": {},
   "outputs": [
    {
     "data": {
      "text/plain": [
       "['Samay',\n",
       " 'Raina',\n",
       " 'is',\n",
       " 'the',\n",
       " 'best',\n",
       " 'chess',\n",
       " 'streamer',\n",
       " 'in',\n",
       " 'the',\n",
       " 'world']"
      ]
     },
     "execution_count": 56,
     "metadata": {},
     "output_type": "execute_result"
    }
   ],
   "source": [
    "word_tokenize(chess)"
   ]
  },
  {
   "cell_type": "code",
   "execution_count": 12,
   "metadata": {},
   "outputs": [],
   "source": [
    "#sentence tokenizer\n",
    "from nltk.tokenize import sent_tokenize"
   ]
  },
  {
   "cell_type": "code",
   "execution_count": 13,
   "metadata": {},
   "outputs": [],
   "source": [
    "chess2 = \"Samay Raina is the best chess streamer in the world. Sagar Shah is the best chess coach in the world\""
   ]
  },
  {
   "cell_type": "code",
   "execution_count": 14,
   "metadata": {},
   "outputs": [
    {
     "data": {
      "text/plain": [
       "['Samay Raina is the best chess streamer in the world.',\n",
       " 'Sagar Shah is the best chess coach in the world']"
      ]
     },
     "execution_count": 14,
     "metadata": {},
     "output_type": "execute_result"
    }
   ],
   "source": [
    "sent_tokenize(chess2)"
   ]
  },
  {
   "cell_type": "code",
   "execution_count": 15,
   "metadata": {},
   "outputs": [
    {
     "data": {
      "text/plain": [
       "10"
      ]
     },
     "execution_count": 15,
     "metadata": {},
     "output_type": "execute_result"
    }
   ],
   "source": [
    "#Checking the number of tokens\n",
    "len(word_tokenize(chess))"
   ]
  },
  {
   "cell_type": "code",
   "execution_count": 16,
   "metadata": {},
   "outputs": [],
   "source": [
    "#bigrams and n-grams"
   ]
  },
  {
   "cell_type": "code",
   "execution_count": 17,
   "metadata": {},
   "outputs": [],
   "source": [
    "astronaut = \"Can anybody hear me or am I talking to myself? My mind is running empty in the search for someone else\""
   ]
  },
  {
   "cell_type": "code",
   "execution_count": 18,
   "metadata": {},
   "outputs": [],
   "source": [
    "astronaut_token=(word_tokenize(astronaut))"
   ]
  },
  {
   "cell_type": "code",
   "execution_count": 19,
   "metadata": {},
   "outputs": [
    {
     "data": {
      "text/plain": [
       "[('Can', 'anybody'),\n",
       " ('anybody', 'hear'),\n",
       " ('hear', 'me'),\n",
       " ('me', 'or'),\n",
       " ('or', 'am'),\n",
       " ('am', 'I'),\n",
       " ('I', 'talking'),\n",
       " ('talking', 'to'),\n",
       " ('to', 'myself'),\n",
       " ('myself', '?'),\n",
       " ('?', 'My'),\n",
       " ('My', 'mind'),\n",
       " ('mind', 'is'),\n",
       " ('is', 'running'),\n",
       " ('running', 'empty'),\n",
       " ('empty', 'in'),\n",
       " ('in', 'the'),\n",
       " ('the', 'search'),\n",
       " ('search', 'for'),\n",
       " ('for', 'someone'),\n",
       " ('someone', 'else')]"
      ]
     },
     "execution_count": 19,
     "metadata": {},
     "output_type": "execute_result"
    }
   ],
   "source": [
    "list(nltk.bigrams(astronaut_token))"
   ]
  },
  {
   "cell_type": "code",
   "execution_count": 20,
   "metadata": {},
   "outputs": [
    {
     "data": {
      "text/plain": [
       "[('Can', 'anybody', 'hear'),\n",
       " ('anybody', 'hear', 'me'),\n",
       " ('hear', 'me', 'or'),\n",
       " ('me', 'or', 'am'),\n",
       " ('or', 'am', 'I'),\n",
       " ('am', 'I', 'talking'),\n",
       " ('I', 'talking', 'to'),\n",
       " ('talking', 'to', 'myself'),\n",
       " ('to', 'myself', '?'),\n",
       " ('myself', '?', 'My'),\n",
       " ('?', 'My', 'mind'),\n",
       " ('My', 'mind', 'is'),\n",
       " ('mind', 'is', 'running'),\n",
       " ('is', 'running', 'empty'),\n",
       " ('running', 'empty', 'in'),\n",
       " ('empty', 'in', 'the'),\n",
       " ('in', 'the', 'search'),\n",
       " ('the', 'search', 'for'),\n",
       " ('search', 'for', 'someone'),\n",
       " ('for', 'someone', 'else')]"
      ]
     },
     "execution_count": 20,
     "metadata": {},
     "output_type": "execute_result"
    }
   ],
   "source": [
    "list(nltk.trigrams(astronaut_token))"
   ]
  },
  {
   "cell_type": "code",
   "execution_count": 21,
   "metadata": {},
   "outputs": [
    {
     "data": {
      "text/plain": [
       "[('Can', 'anybody', 'hear', 'me', 'or'),\n",
       " ('anybody', 'hear', 'me', 'or', 'am'),\n",
       " ('hear', 'me', 'or', 'am', 'I'),\n",
       " ('me', 'or', 'am', 'I', 'talking'),\n",
       " ('or', 'am', 'I', 'talking', 'to'),\n",
       " ('am', 'I', 'talking', 'to', 'myself'),\n",
       " ('I', 'talking', 'to', 'myself', '?'),\n",
       " ('talking', 'to', 'myself', '?', 'My'),\n",
       " ('to', 'myself', '?', 'My', 'mind'),\n",
       " ('myself', '?', 'My', 'mind', 'is'),\n",
       " ('?', 'My', 'mind', 'is', 'running'),\n",
       " ('My', 'mind', 'is', 'running', 'empty'),\n",
       " ('mind', 'is', 'running', 'empty', 'in'),\n",
       " ('is', 'running', 'empty', 'in', 'the'),\n",
       " ('running', 'empty', 'in', 'the', 'search'),\n",
       " ('empty', 'in', 'the', 'search', 'for'),\n",
       " ('in', 'the', 'search', 'for', 'someone'),\n",
       " ('the', 'search', 'for', 'someone', 'else')]"
      ]
     },
     "execution_count": 21,
     "metadata": {},
     "output_type": "execute_result"
    }
   ],
   "source": [
    "list(nltk.ngrams(astronaut_token,5))"
   ]
  },
  {
   "cell_type": "code",
   "execution_count": 22,
   "metadata": {},
   "outputs": [],
   "source": [
    "#Stemming"
   ]
  },
  {
   "cell_type": "code",
   "execution_count": 23,
   "metadata": {},
   "outputs": [],
   "source": [
    "from nltk.stem import PorterStemmer"
   ]
  },
  {
   "cell_type": "code",
   "execution_count": 24,
   "metadata": {},
   "outputs": [],
   "source": [
    "my_stem = PorterStemmer()"
   ]
  },
  {
   "cell_type": "code",
   "execution_count": 25,
   "metadata": {},
   "outputs": [
    {
     "data": {
      "text/plain": [
       "'eat'"
      ]
     },
     "execution_count": 25,
     "metadata": {},
     "output_type": "execute_result"
    }
   ],
   "source": [
    "my_stem.stem(\"eating\")"
   ]
  },
  {
   "cell_type": "code",
   "execution_count": 26,
   "metadata": {},
   "outputs": [
    {
     "data": {
      "text/plain": [
       "'go'"
      ]
     },
     "execution_count": 26,
     "metadata": {},
     "output_type": "execute_result"
    }
   ],
   "source": [
    "my_stem.stem(\"going\")"
   ]
  },
  {
   "cell_type": "code",
   "execution_count": 27,
   "metadata": {},
   "outputs": [
    {
     "data": {
      "text/plain": [
       "'shop'"
      ]
     },
     "execution_count": 27,
     "metadata": {},
     "output_type": "execute_result"
    }
   ],
   "source": [
    "my_stem.stem(\"shopping\")"
   ]
  },
  {
   "cell_type": "code",
   "execution_count": 28,
   "metadata": {},
   "outputs": [],
   "source": [
    "#pos-tagging"
   ]
  },
  {
   "cell_type": "code",
   "execution_count": 29,
   "metadata": {},
   "outputs": [],
   "source": [
    "tom =\"Tom Hanks is the best actor in the world\""
   ]
  },
  {
   "cell_type": "code",
   "execution_count": 30,
   "metadata": {},
   "outputs": [],
   "source": [
    "tom_token = word_tokenize(tom)"
   ]
  },
  {
   "cell_type": "code",
   "execution_count": 52,
   "metadata": {},
   "outputs": [
    {
     "data": {
      "text/plain": [
       "[('Tom', 'NNP'),\n",
       " ('Hanks', 'NNP'),\n",
       " ('is', 'VBZ'),\n",
       " ('the', 'DT'),\n",
       " ('best', 'JJS'),\n",
       " ('actor', 'NN'),\n",
       " ('in', 'IN'),\n",
       " ('the', 'DT'),\n",
       " ('world', 'NN')]"
      ]
     },
     "execution_count": 52,
     "metadata": {},
     "output_type": "execute_result"
    }
   ],
   "source": [
    "nltk.pos_tag(tom_token)"
   ]
  },
  {
   "cell_type": "code",
   "execution_count": 32,
   "metadata": {},
   "outputs": [],
   "source": [
    "#Named entity recognition"
   ]
  },
  {
   "cell_type": "code",
   "execution_count": 33,
   "metadata": {},
   "outputs": [],
   "source": [
    "from nltk import ne_chunk"
   ]
  },
  {
   "cell_type": "code",
   "execution_count": 34,
   "metadata": {},
   "outputs": [],
   "source": [
    "president = \"Barack Obama was the 44th President of America\""
   ]
  },
  {
   "cell_type": "code",
   "execution_count": 35,
   "metadata": {},
   "outputs": [],
   "source": [
    "president_token = word_tokenize(president)"
   ]
  },
  {
   "cell_type": "code",
   "execution_count": 44,
   "metadata": {},
   "outputs": [],
   "source": [
    "president_pos = nltk.pos_tag(president_token)"
   ]
  },
  {
   "cell_type": "code",
   "execution_count": 47,
   "metadata": {},
   "outputs": [
    {
     "name": "stdout",
     "output_type": "stream",
     "text": [
      "(S\n",
      "  (PERSON Barack/NNP)\n",
      "  (PERSON Obama/NNP)\n",
      "  was/VBD\n",
      "  the/DT\n",
      "  44th/JJ\n",
      "  President/NNP\n",
      "  of/IN\n",
      "  (GPE America/NNP))\n"
     ]
    }
   ],
   "source": [
    "print(ne_chunk(president_pos))"
   ]
  },
  {
   "cell_type": "code",
   "execution_count": 49,
   "metadata": {},
   "outputs": [
    {
     "name": "stdout",
     "output_type": "stream",
     "text": [
      "Collecting gTTS\n",
      "  Downloading gTTS-2.5.1-py3-none-any.whl (29 kB)\n",
      "Requirement already satisfied: click<8.2,>=7.1 in c:\\users\\admin\\anaconda3\\a\\lib\\site-packages (from gTTS) (8.0.4)\n",
      "Requirement already satisfied: requests<3,>=2.27 in c:\\users\\admin\\anaconda3\\a\\lib\\site-packages (from gTTS) (2.28.1)\n",
      "Requirement already satisfied: colorama in c:\\users\\admin\\anaconda3\\a\\lib\\site-packages (from click<8.2,>=7.1->gTTS) (0.4.6)\n",
      "Requirement already satisfied: idna<4,>=2.5 in c:\\users\\admin\\anaconda3\\a\\lib\\site-packages (from requests<3,>=2.27->gTTS) (3.4)\n",
      "Requirement already satisfied: urllib3<1.27,>=1.21.1 in c:\\users\\admin\\anaconda3\\a\\lib\\site-packages (from requests<3,>=2.27->gTTS) (1.26.14)\n",
      "Requirement already satisfied: charset-normalizer<3,>=2 in c:\\users\\admin\\anaconda3\\a\\lib\\site-packages (from requests<3,>=2.27->gTTS) (2.0.4)\n",
      "Requirement already satisfied: certifi>=2017.4.17 in c:\\users\\admin\\anaconda3\\a\\lib\\site-packages (from requests<3,>=2.27->gTTS) (2023.5.7)\n",
      "Installing collected packages: gTTS\n",
      "Successfully installed gTTS-2.5.1\n",
      "Note: you may need to restart the kernel to use updated packages.\n"
     ]
    }
   ],
   "source": [
    "pip install gTTS"
   ]
  },
  {
   "cell_type": "code",
   "execution_count": 58,
   "metadata": {},
   "outputs": [
    {
     "data": {
      "text/html": [
       "\n",
       "                <audio  controls=\"controls\" autoplay=\"autoplay\">\n",
       "                    <source src=\"data:audio/wav;base64,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\" type=\"audio/wav\" />\n",
       "                    Your browser does not support the audio element.\n",
       "                </audio>\n",
       "              "
      ],
      "text/plain": [
       "<IPython.lib.display.Audio object>"
      ]
     },
     "execution_count": 58,
     "metadata": {},
     "output_type": "execute_result"
    }
   ],
   "source": [
    "from gtts import gTTS\n",
    "from IPython.display import Audio\n",
    "tts = gTTS('This is Tejas, I have knowledge of Machine Learning and Statistics. Currenty i am explorirng Generative AI')\n",
    "tts.save('1.wav')\n",
    "sound_file = '1.wav'\n",
    "Audio(sound_file, autoplay=True)"
   ]
  },
  {
   "cell_type": "code",
   "execution_count": null,
   "metadata": {},
   "outputs": [],
   "source": []
  }
 ],
 "metadata": {
  "kernelspec": {
   "display_name": "Python 3 (ipykernel)",
   "language": "python",
   "name": "python3"
  },
  "language_info": {
   "codemirror_mode": {
    "name": "ipython",
    "version": 3
   },
   "file_extension": ".py",
   "mimetype": "text/x-python",
   "name": "python",
   "nbconvert_exporter": "python",
   "pygments_lexer": "ipython3",
   "version": "3.10.9"
  }
 },
 "nbformat": 4,
 "nbformat_minor": 2
}
